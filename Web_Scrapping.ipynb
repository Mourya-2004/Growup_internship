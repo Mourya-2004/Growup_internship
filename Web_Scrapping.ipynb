{
  "nbformat": 4,
  "nbformat_minor": 0,
  "metadata": {
    "colab": {
      "provenance": []
    },
    "kernelspec": {
      "name": "python3",
      "display_name": "Python 3"
    },
    "language_info": {
      "name": "python"
    }
  },
  "cells": [
    {
      "cell_type": "markdown",
      "source": [
        "## Websrapping\n",
        "\n",
        "Website Link : http://books.toscrape.com/index.html"
      ],
      "metadata": {
        "id": "LuNF9YOuQyUF"
      }
    },
    {
      "cell_type": "markdown",
      "source": [
        "- BeautifulSoup\n",
        "- Requests"
      ],
      "metadata": {
        "id": "RxI3k3CPRgF4"
      }
    },
    {
      "cell_type": "code",
      "execution_count": null,
      "metadata": {
        "id": "conBulOOQssy"
      },
      "outputs": [],
      "source": [
        "import requests\n",
        "from bs4 import BeautifulSoup as bs"
      ]
    },
    {
      "cell_type": "code",
      "source": [
        "url = 'http://books.toscrape.com/index.html'\n",
        "response = requests.get(url)\n",
        "response"
      ],
      "metadata": {
        "colab": {
          "base_uri": "https://localhost:8080/"
        },
        "id": "ml3R1ouGShTm",
        "outputId": "3469f29b-7262-4e03-b2ab-3c4ea1d71df2"
      },
      "execution_count": null,
      "outputs": [
        {
          "output_type": "execute_result",
          "data": {
            "text/plain": [
              "<Response [200]>"
            ]
          },
          "metadata": {},
          "execution_count": 5
        }
      ]
    },
    {
      "cell_type": "code",
      "source": [
        "response.status_code"
      ],
      "metadata": {
        "colab": {
          "base_uri": "https://localhost:8080/"
        },
        "id": "OM6Qh1FkTeOZ",
        "outputId": "7ddfd6b5-ac2d-42da-d51c-46642685e50b"
      },
      "execution_count": null,
      "outputs": [
        {
          "output_type": "execute_result",
          "data": {
            "text/plain": [
              "200"
            ]
          },
          "metadata": {},
          "execution_count": 6
        }
      ]
    },
    {
      "cell_type": "code",
      "source": [
        "print(response.text[:1000])"
      ],
      "metadata": {
        "colab": {
          "base_uri": "https://localhost:8080/"
        },
        "id": "T6WqobvbTiI5",
        "outputId": "78e3db52-af86-4376-c20b-a9c15709fe92"
      },
      "execution_count": null,
      "outputs": [
        {
          "output_type": "stream",
          "name": "stdout",
          "text": [
            "<!DOCTYPE html>\n",
            "<!--[if lt IE 7]>      <html lang=\"en-us\" class=\"no-js lt-ie9 lt-ie8 lt-ie7\"> <![endif]-->\n",
            "<!--[if IE 7]>         <html lang=\"en-us\" class=\"no-js lt-ie9 lt-ie8\"> <![endif]-->\n",
            "<!--[if IE 8]>         <html lang=\"en-us\" class=\"no-js lt-ie9\"> <![endif]-->\n",
            "<!--[if gt IE 8]><!--> <html lang=\"en-us\" class=\"no-js\"> <!--<![endif]-->\n",
            "    <head>\n",
            "        <title>\n",
            "    All products | Books to Scrape - Sandbox\n",
            "</title>\n",
            "\n",
            "        <meta http-equiv=\"content-type\" content=\"text/html; charset=UTF-8\" />\n",
            "        <meta name=\"created\" content=\"24th Jun 2016 09:29\" />\n",
            "        <meta name=\"description\" content=\"\" />\n",
            "        <meta name=\"viewport\" content=\"width=device-width\" />\n",
            "        <meta name=\"robots\" content=\"NOARCHIVE,NOCACHE\" />\n",
            "\n",
            "        <!-- Le HTML5 shim, for IE6-8 support of HTML elements -->\n",
            "        <!--[if lt IE 9]>\n",
            "        <script src=\"//html5shim.googlecode.com/svn/trunk/html5.js\"></script>\n",
            "        <![endif]-->\n",
            "\n",
            "        \n",
            "            <link rel=\"shortcut icon\" href=\"static/oscar/favicon.\n"
          ]
        }
      ]
    },
    {
      "cell_type": "code",
      "source": [
        "soup = bs(response.text)"
      ],
      "metadata": {
        "id": "LVV4XHu1Tzvq"
      },
      "execution_count": null,
      "outputs": []
    },
    {
      "cell_type": "code",
      "source": [
        "type(soup)"
      ],
      "metadata": {
        "colab": {
          "base_uri": "https://localhost:8080/",
          "height": 205
        },
        "id": "uWg8ZEyyVOOO",
        "outputId": "92d441b5-3c0c-4dd7-f762-f19eaba4633b"
      },
      "execution_count": null,
      "outputs": [
        {
          "output_type": "execute_result",
          "data": {
            "text/plain": [
              "bs4.BeautifulSoup"
            ],
            "text/html": [
              "<div style=\"max-width:800px; border: 1px solid var(--colab-border-color);\"><style>\n",
              "      pre.function-repr-contents {\n",
              "        overflow-x: auto;\n",
              "        padding: 8px 12px;\n",
              "        max-height: 500px;\n",
              "      }\n",
              "\n",
              "      pre.function-repr-contents.function-repr-contents-collapsed {\n",
              "        cursor: pointer;\n",
              "        max-height: 100px;\n",
              "      }\n",
              "    </style>\n",
              "    <pre style=\"white-space: initial; background:\n",
              "         var(--colab-secondary-surface-color); padding: 8px 12px;\n",
              "         border-bottom: 1px solid var(--colab-border-color);\"><b>bs4.BeautifulSoup</b><br/>def __call__(*args, **kwargs)</pre><pre class=\"function-repr-contents function-repr-contents-collapsed\" style=\"\"><a class=\"filepath\" style=\"display:none\" href=\"#\">/usr/local/lib/python3.10/dist-packages/bs4/__init__.py</a>A data structure representing a parsed HTML or XML document.\n",
              "\n",
              "Most of the methods you&#x27;ll call on a BeautifulSoup object are inherited from\n",
              "PageElement or Tag.\n",
              "\n",
              "Internally, this class defines the basic interface called by the\n",
              "tree builders when converting an HTML/XML document into a data\n",
              "structure. The interface abstracts away the differences between\n",
              "parsers. To write a new tree builder, you&#x27;ll need to understand\n",
              "these methods as a whole.\n",
              "\n",
              "These methods will be called by the BeautifulSoup constructor:\n",
              "  * reset()\n",
              "  * feed(markup)\n",
              "\n",
              "The tree builder may call these methods from its feed() implementation:\n",
              "  * handle_starttag(name, attrs) # See note about return value\n",
              "  * handle_endtag(name)\n",
              "  * handle_data(data) # Appends to the current data node\n",
              "  * endData(containerClass) # Ends the current data node\n",
              "\n",
              "No matter how complicated the underlying parser is, you should be\n",
              "able to build a tree using &#x27;start tag&#x27; events, &#x27;end tag&#x27; events,\n",
              "&#x27;data&#x27; events, and &quot;done with data&quot; events.\n",
              "\n",
              "If you encounter an empty-element tag (aka a self-closing tag,\n",
              "like HTML&#x27;s &lt;br&gt; tag), call handle_starttag and then\n",
              "handle_endtag.</pre>\n",
              "      <script>\n",
              "      if (google.colab.kernel.accessAllowed && google.colab.files && google.colab.files.view) {\n",
              "        for (const element of document.querySelectorAll('.filepath')) {\n",
              "          element.style.display = 'block'\n",
              "          element.onclick = (event) => {\n",
              "            event.preventDefault();\n",
              "            event.stopPropagation();\n",
              "            google.colab.files.view(element.textContent, 76);\n",
              "          };\n",
              "        }\n",
              "      }\n",
              "      for (const element of document.querySelectorAll('.function-repr-contents')) {\n",
              "        element.onclick = (event) => {\n",
              "          event.preventDefault();\n",
              "          event.stopPropagation();\n",
              "          element.classList.toggle('function-repr-contents-collapsed');\n",
              "        };\n",
              "      }\n",
              "      </script>\n",
              "      </div>"
            ]
          },
          "metadata": {},
          "execution_count": 10
        }
      ]
    },
    {
      "cell_type": "code",
      "source": [
        "soup.find('title').text"
      ],
      "metadata": {
        "colab": {
          "base_uri": "https://localhost:8080/",
          "height": 56
        },
        "id": "HfIpm7woVXet",
        "outputId": "3e80dfb4-7e01-4d03-8aa8-8a59730cfbb3"
      },
      "execution_count": null,
      "outputs": [
        {
          "output_type": "execute_result",
          "data": {
            "text/plain": [
              "'\\n    All products | Books to Scrape - Sandbox\\n'"
            ],
            "application/vnd.google.colaboratory.intrinsic+json": {
              "type": "string"
            }
          },
          "metadata": {},
          "execution_count": 11
        }
      ]
    },
    {
      "cell_type": "code",
      "source": [
        "soup.find('title').text.strip()"
      ],
      "metadata": {
        "colab": {
          "base_uri": "https://localhost:8080/",
          "height": 56
        },
        "id": "rgLsqfKLV8Nn",
        "outputId": "278bb184-0ea8-477d-db83-dd9c6a166099"
      },
      "execution_count": null,
      "outputs": [
        {
          "output_type": "execute_result",
          "data": {
            "text/plain": [
              "'All products | Books to Scrape - Sandbox'"
            ],
            "application/vnd.google.colaboratory.intrinsic+json": {
              "type": "string"
            }
          },
          "metadata": {},
          "execution_count": 12
        }
      ]
    },
    {
      "cell_type": "code",
      "source": [
        "book_tag = soup.find_all('article',class_='product_pod')"
      ],
      "metadata": {
        "id": "InmWDWe_WLtz"
      },
      "execution_count": null,
      "outputs": []
    },
    {
      "cell_type": "code",
      "source": [
        "len(book_tag)"
      ],
      "metadata": {
        "colab": {
          "base_uri": "https://localhost:8080/"
        },
        "id": "Gppzetz_XBwr",
        "outputId": "fbfc7331-eb39-43e6-a983-5d181689c82d"
      },
      "execution_count": null,
      "outputs": [
        {
          "output_type": "execute_result",
          "data": {
            "text/plain": [
              "20"
            ]
          },
          "metadata": {},
          "execution_count": 17
        }
      ]
    },
    {
      "cell_type": "code",
      "source": [
        "book = book_tag[0]"
      ],
      "metadata": {
        "id": "N1sk0ZEHWx-z"
      },
      "execution_count": null,
      "outputs": []
    },
    {
      "cell_type": "code",
      "source": [
        "title_tag = book.find('a',title=True)\n",
        "title_tag"
      ],
      "metadata": {
        "colab": {
          "base_uri": "https://localhost:8080/"
        },
        "id": "1sl5tUwpXhlU",
        "outputId": "0504c062-7e9f-4b92-a65d-2aa3ff785810"
      },
      "execution_count": null,
      "outputs": [
        {
          "output_type": "execute_result",
          "data": {
            "text/plain": [
              "<a href=\"catalogue/a-light-in-the-attic_1000/index.html\" title=\"A Light in the Attic\">A Light in the ...</a>"
            ]
          },
          "metadata": {},
          "execution_count": 21
        }
      ]
    },
    {
      "cell_type": "code",
      "source": [
        "title_tag.text"
      ],
      "metadata": {
        "colab": {
          "base_uri": "https://localhost:8080/",
          "height": 56
        },
        "id": "hbbyu1sVXt2_",
        "outputId": "7a5e499e-af5f-477f-88e6-f480ea1e8662"
      },
      "execution_count": null,
      "outputs": [
        {
          "output_type": "execute_result",
          "data": {
            "text/plain": [
              "'A Light in the ...'"
            ],
            "application/vnd.google.colaboratory.intrinsic+json": {
              "type": "string"
            }
          },
          "metadata": {},
          "execution_count": 25
        }
      ]
    },
    {
      "cell_type": "code",
      "source": [
        "title_tag['title']"
      ],
      "metadata": {
        "colab": {
          "base_uri": "https://localhost:8080/",
          "height": 56
        },
        "id": "9NFk1U0pYKJO",
        "outputId": "e30d5454-5c29-4935-cb7f-f17361565f6d"
      },
      "execution_count": null,
      "outputs": [
        {
          "output_type": "execute_result",
          "data": {
            "text/plain": [
              "'A Light in the Attic'"
            ],
            "application/vnd.google.colaboratory.intrinsic+json": {
              "type": "string"
            }
          },
          "metadata": {},
          "execution_count": 23
        }
      ]
    },
    {
      "cell_type": "code",
      "source": [
        "# Name of the book\n",
        "title = book.find('a',title=True)['title']\n",
        "title"
      ],
      "metadata": {
        "colab": {
          "base_uri": "https://localhost:8080/",
          "height": 56
        },
        "id": "7fYUPPJ_Yf76",
        "outputId": "f897a937-0548-458e-d27a-23aedce3f358"
      },
      "execution_count": null,
      "outputs": [
        {
          "output_type": "execute_result",
          "data": {
            "text/plain": [
              "'A Light in the Attic'"
            ],
            "application/vnd.google.colaboratory.intrinsic+json": {
              "type": "string"
            }
          },
          "metadata": {},
          "execution_count": 26
        }
      ]
    },
    {
      "cell_type": "code",
      "source": [
        "# Ratings of the book\n",
        "rating = book.find('p')['class'][1]\n",
        "rating"
      ],
      "metadata": {
        "colab": {
          "base_uri": "https://localhost:8080/",
          "height": 56
        },
        "id": "ECaLfi3uYqsr",
        "outputId": "b09e5c51-8e6f-4455-b733-850c39091193"
      },
      "execution_count": null,
      "outputs": [
        {
          "output_type": "execute_result",
          "data": {
            "text/plain": [
              "'Three'"
            ],
            "application/vnd.google.colaboratory.intrinsic+json": {
              "type": "string"
            }
          },
          "metadata": {},
          "execution_count": 27
        }
      ]
    },
    {
      "cell_type": "code",
      "source": [
        "# Price of the book\n",
        "price = book.find('p',class_='price_color').text[1:]\n",
        "price"
      ],
      "metadata": {
        "colab": {
          "base_uri": "https://localhost:8080/",
          "height": 56
        },
        "id": "PmP3uovHZAlv",
        "outputId": "543dfbf0-b544-4292-a5d0-61ae75981451"
      },
      "execution_count": null,
      "outputs": [
        {
          "output_type": "execute_result",
          "data": {
            "text/plain": [
              "'£51.77'"
            ],
            "application/vnd.google.colaboratory.intrinsic+json": {
              "type": "string"
            }
          },
          "metadata": {},
          "execution_count": 32
        }
      ]
    },
    {
      "cell_type": "code",
      "source": [
        "# Link\n",
        "link = 'http://books.toscrape.com/' + book.find('a')['href']\n",
        "link"
      ],
      "metadata": {
        "colab": {
          "base_uri": "https://localhost:8080/",
          "height": 56
        },
        "id": "P3uFpLfpZpwQ",
        "outputId": "325827c8-947b-4ed0-a226-311f07b47d6b"
      },
      "execution_count": null,
      "outputs": [
        {
          "output_type": "execute_result",
          "data": {
            "text/plain": [
              "'http://books.toscrape.com/catalogue/a-light-in-the-attic_1000/index.html'"
            ],
            "application/vnd.google.colaboratory.intrinsic+json": {
              "type": "string"
            }
          },
          "metadata": {},
          "execution_count": 34
        }
      ]
    },
    {
      "cell_type": "code",
      "source": [
        "def get_details(book_tag):\n",
        "  title = book_tag.find('a',title=True)['title']\n",
        "  rating = book_tag.find('p')['class'][1]\n",
        "  price = book_tag.find('p',class_='price_color').text[1:]\n",
        "  link = 'http://books.toscrape.com/' + book_tag.find('a')['href']\n",
        "  return title, rating, price,link\n",
        "\n"
      ],
      "metadata": {
        "id": "Kwr2b6PVbZ_i"
      },
      "execution_count": null,
      "outputs": []
    },
    {
      "cell_type": "code",
      "source": [
        "get_details(book_tag[4])"
      ],
      "metadata": {
        "id": "R0OVqRENcDrb",
        "colab": {
          "base_uri": "https://localhost:8080/"
        },
        "outputId": "5bbefc7a-ecbd-4d49-c909-2f8c2e3fea37"
      },
      "execution_count": null,
      "outputs": [
        {
          "output_type": "execute_result",
          "data": {
            "text/plain": [
              "('Sapiens: A Brief History of Humankind',\n",
              " 'Five',\n",
              " '£54.23',\n",
              " 'http://books.toscrape.com/catalogue/sapiens-a-brief-history-of-humankind_996/index.html')"
            ]
          },
          "metadata": {},
          "execution_count": 49
        }
      ]
    },
    {
      "cell_type": "code",
      "source": [
        "books_list = []\n",
        "for i in range(len(book_tag)):\n",
        "  books_list.append(get_details(book_tag[i]))\n",
        "\n",
        "books_list"
      ],
      "metadata": {
        "id": "mp5pa_imcYp1",
        "colab": {
          "base_uri": "https://localhost:8080/"
        },
        "outputId": "efa2f52b-e7e6-4dbe-c7c2-80e7fb97b1fb"
      },
      "execution_count": null,
      "outputs": [
        {
          "output_type": "execute_result",
          "data": {
            "text/plain": [
              "[('A Light in the Attic',\n",
              "  'Three',\n",
              "  '£51.77',\n",
              "  'http://books.toscrape.com/catalogue/a-light-in-the-attic_1000/index.html'),\n",
              " ('Tipping the Velvet',\n",
              "  'One',\n",
              "  '£53.74',\n",
              "  'http://books.toscrape.com/catalogue/tipping-the-velvet_999/index.html'),\n",
              " ('Soumission',\n",
              "  'One',\n",
              "  '£50.10',\n",
              "  'http://books.toscrape.com/catalogue/soumission_998/index.html'),\n",
              " ('Sharp Objects',\n",
              "  'Four',\n",
              "  '£47.82',\n",
              "  'http://books.toscrape.com/catalogue/sharp-objects_997/index.html'),\n",
              " ('Sapiens: A Brief History of Humankind',\n",
              "  'Five',\n",
              "  '£54.23',\n",
              "  'http://books.toscrape.com/catalogue/sapiens-a-brief-history-of-humankind_996/index.html'),\n",
              " ('The Requiem Red',\n",
              "  'One',\n",
              "  '£22.65',\n",
              "  'http://books.toscrape.com/catalogue/the-requiem-red_995/index.html'),\n",
              " ('The Dirty Little Secrets of Getting Your Dream Job',\n",
              "  'Four',\n",
              "  '£33.34',\n",
              "  'http://books.toscrape.com/catalogue/the-dirty-little-secrets-of-getting-your-dream-job_994/index.html'),\n",
              " ('The Coming Woman: A Novel Based on the Life of the Infamous Feminist, Victoria Woodhull',\n",
              "  'Three',\n",
              "  '£17.93',\n",
              "  'http://books.toscrape.com/catalogue/the-coming-woman-a-novel-based-on-the-life-of-the-infamous-feminist-victoria-woodhull_993/index.html'),\n",
              " ('The Boys in the Boat: Nine Americans and Their Epic Quest for Gold at the 1936 Berlin Olympics',\n",
              "  'Four',\n",
              "  '£22.60',\n",
              "  'http://books.toscrape.com/catalogue/the-boys-in-the-boat-nine-americans-and-their-epic-quest-for-gold-at-the-1936-berlin-olympics_992/index.html'),\n",
              " ('The Black Maria',\n",
              "  'One',\n",
              "  '£52.15',\n",
              "  'http://books.toscrape.com/catalogue/the-black-maria_991/index.html'),\n",
              " ('Starving Hearts (Triangular Trade Trilogy, #1)',\n",
              "  'Two',\n",
              "  '£13.99',\n",
              "  'http://books.toscrape.com/catalogue/starving-hearts-triangular-trade-trilogy-1_990/index.html'),\n",
              " (\"Shakespeare's Sonnets\",\n",
              "  'Four',\n",
              "  '£20.66',\n",
              "  'http://books.toscrape.com/catalogue/shakespeares-sonnets_989/index.html'),\n",
              " ('Set Me Free',\n",
              "  'Five',\n",
              "  '£17.46',\n",
              "  'http://books.toscrape.com/catalogue/set-me-free_988/index.html'),\n",
              " (\"Scott Pilgrim's Precious Little Life (Scott Pilgrim #1)\",\n",
              "  'Five',\n",
              "  '£52.29',\n",
              "  'http://books.toscrape.com/catalogue/scott-pilgrims-precious-little-life-scott-pilgrim-1_987/index.html'),\n",
              " ('Rip it Up and Start Again',\n",
              "  'Five',\n",
              "  '£35.02',\n",
              "  'http://books.toscrape.com/catalogue/rip-it-up-and-start-again_986/index.html'),\n",
              " ('Our Band Could Be Your Life: Scenes from the American Indie Underground, 1981-1991',\n",
              "  'Three',\n",
              "  '£57.25',\n",
              "  'http://books.toscrape.com/catalogue/our-band-could-be-your-life-scenes-from-the-american-indie-underground-1981-1991_985/index.html'),\n",
              " ('Olio',\n",
              "  'One',\n",
              "  '£23.88',\n",
              "  'http://books.toscrape.com/catalogue/olio_984/index.html'),\n",
              " ('Mesaerion: The Best Science Fiction Stories 1800-1849',\n",
              "  'One',\n",
              "  '£37.59',\n",
              "  'http://books.toscrape.com/catalogue/mesaerion-the-best-science-fiction-stories-1800-1849_983/index.html'),\n",
              " ('Libertarianism for Beginners',\n",
              "  'Two',\n",
              "  '£51.33',\n",
              "  'http://books.toscrape.com/catalogue/libertarianism-for-beginners_982/index.html'),\n",
              " (\"It's Only the Himalayas\",\n",
              "  'Two',\n",
              "  '£45.17',\n",
              "  'http://books.toscrape.com/catalogue/its-only-the-himalayas_981/index.html')]"
            ]
          },
          "metadata": {},
          "execution_count": 55
        }
      ]
    },
    {
      "cell_type": "markdown",
      "source": [
        "to_dataframe"
      ],
      "metadata": {
        "id": "ABsqebT0eXX0"
      }
    }
  ]
}